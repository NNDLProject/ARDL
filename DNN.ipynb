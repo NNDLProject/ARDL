{
 "cells": [
  {
   "cell_type": "code",
   "execution_count": 1,
   "metadata": {
    "id": "Cxb74Yxrr3CT"
   },
   "outputs": [],
   "source": [
    "import torch\n",
    "import torch.nn as nn\n",
    "import torch.nn.functional as F\n",
    "import torch.optim as optim\n",
    "from torch.utils.data import TensorDataset, DataLoader\n",
    "import numpy as np\n",
    "import re\n",
    "\n",
    "from sklearn.datasets import fetch_20newsgroups"
   ]
  },
  {
   "cell_type": "code",
   "execution_count": 2,
   "metadata": {},
   "outputs": [
    {
     "name": "stdout",
     "output_type": "stream",
     "text": [
      "Total samples in training data: 11314\n",
      "Total samples in testing data: 7532\n"
     ]
    }
   ],
   "source": [
    "# Provide list of categories to consider\n",
    "categories = ['alt.atheism',\n",
    "              'comp.graphics', \n",
    "              'comp.os.ms-windows.misc',\n",
    "              'comp.sys.ibm.pc.hardware',  \n",
    "              'comp.sys.mac.hardware',\n",
    "              'comp.windows.x', \n",
    "              'misc.forsale', \n",
    "              'rec.autos', \n",
    "              'rec.motorcycles', \n",
    "              'rec.sport.baseball', \n",
    "              'rec.sport.hockey', \n",
    "              'sci.crypt', \n",
    "              'sci.electronics', \n",
    "              'sci.med', \n",
    "              'sci.space', \n",
    "              'soc.religion.christian', \n",
    "              'talk.politics.guns', \n",
    "              'talk.politics.mideast', \n",
    "              'talk.politics.misc', \n",
    "              'talk.religion.misc']\n",
    "\n",
    "# Training subset\n",
    "newsgroups_train = fetch_20newsgroups(subset='train', categories=categories)\n",
    "# Testing subset\n",
    "newsgroups_test = fetch_20newsgroups(subset='test', categories=categories)\n",
    "\n",
    "print('Total samples in training data:',len(newsgroups_train.data))\n",
    "print('Total samples in testing data:',len(newsgroups_test.data))"
   ]
  },
  {
   "cell_type": "code",
   "execution_count": 3,
   "metadata": {},
   "outputs": [
    {
     "name": "stdout",
     "output_type": "stream",
     "text": [
      "Found 400000 word vectors.\n"
     ]
    }
   ],
   "source": [
    "glove_dir = './glove.6B.50d.txt'\n",
    "\n",
    "vocab = {}\n",
    "with open(glove_dir, encoding='utf8') as f:\n",
    "    for line in f:\n",
    "        values = line.split()\n",
    "        word = values[0]\n",
    "        vector = np.asarray(values[1:], \"float32\")\n",
    "        vocab[word] = vector\n",
    "f.close()\n",
    "\n",
    "print('Found %s word vectors.' %len(vocab))"
   ]
  },
  {
   "cell_type": "code",
   "execution_count": 18,
   "metadata": {},
   "outputs": [],
   "source": [
    "def get_embeddings(text):\n",
    "    embedding = np.zeros(50, dtype=float)\n",
    "    i = 0\n",
    "    for word in text.split(' '):\n",
    "        if word in vocab:\n",
    "            i += 1\n",
    "            embedding += vocab[word]\n",
    "    \n",
    "    if i != 0:\n",
    "        embedding /= i\n",
    "        \n",
    "    return embedding"
   ]
  },
  {
   "cell_type": "code",
   "execution_count": 5,
   "metadata": {},
   "outputs": [],
   "source": [
    "def clean(text):\n",
    "    \"\"\" Function to clean the text \"\"\"\n",
    "    text = text.lower()\n",
    "    text = re.sub(r'^https?:\\/\\/.*[\\r\\n]*', '', text, flags=re.MULTILINE)\n",
    "    texter = re.sub(r\"<br />\", \" \", text)\n",
    "    texter = re.sub(r\"&quot;\", \"\\\"\",texter)\n",
    "    texter = re.sub('&#39;', \"\\\"\", texter)\n",
    "    texter = re.sub('\\n', \" \", texter)\n",
    "    texter = re.sub(' u ',\" you \", texter)\n",
    "    texter = re.sub('`',\"\", texter)\n",
    "    texter = re.sub(' +', ' ', texter)\n",
    "    texter = re.sub(r\"(!)\\1+\", r\"!\", texter)\n",
    "    texter = re.sub(r\"(\\?)\\1+\", r\"?\", texter)\n",
    "    texter = re.sub('&amp;', 'and', texter)\n",
    "    texter = re.sub('\\r', ' ',texter)\n",
    "    \n",
    "    texter = re.sub(r'[^\\w\\s]', '', texter)\n",
    "    \n",
    "    # Remove numbers from string\n",
    "    texter = re.sub(pattern=r\"[+-]?\\d+(?:\\.\\d+)?\", repl=\"\", string=texter, count=0, flags=0)\n",
    "    texter = texter.replace(\"  \", \" \")\n",
    "    clean = re.compile('<.*?>')\n",
    "    texter = texter.encode('ascii', 'ignore').decode('ascii')\n",
    "    texter = re.sub(clean, '', texter)\n",
    "    if texter == \"\":\n",
    "        texter = \"\"\n",
    "    return texter"
   ]
  },
  {
   "cell_type": "code",
   "execution_count": 6,
   "metadata": {},
   "outputs": [],
   "source": [
    "dict_categories = {0: 0,\n",
    "                   1: 1, \n",
    "                   2: 1,\n",
    "                   3: 1,  \n",
    "                   4: 1,\n",
    "                   5: 1,\n",
    "                   6: 2, \n",
    "                   7: 3, \n",
    "                   8: 3, \n",
    "                   9: 3, \n",
    "                   10: 3,\n",
    "                   11: 4, \n",
    "                   12: 4, \n",
    "                   13: 4, \n",
    "                   14: 4,\n",
    "                   15: 5, \n",
    "                   16: 6,\n",
    "                   17: 6, \n",
    "                   18: 6, \n",
    "                   19: 6}\n",
    "\n",
    "def transform(df):\n",
    "    X = []\n",
    "    y = []\n",
    "\n",
    "    texts = df.data\n",
    "    categories = df.target\n",
    "\n",
    "    for text in texts:\n",
    "        text = clean(text)\n",
    "\n",
    "        X.append(get_embeddings(text))\n",
    "\n",
    "    for category in categories:\n",
    "        index_y = dict_categories[category]\n",
    "        y.append(index_y)\n",
    "\n",
    "    return np.array(X), np.array(y)"
   ]
  },
  {
   "cell_type": "code",
   "execution_count": 7,
   "metadata": {},
   "outputs": [],
   "source": [
    "# Hyperparameters\n",
    "num_epochs = 10\n",
    "batch_size = 128\n",
    "dropout = 0.5\n",
    "learning_rate = 0.001"
   ]
  },
  {
   "cell_type": "code",
   "execution_count": 8,
   "metadata": {
    "id": "j2bdmNSYumfW"
   },
   "outputs": [],
   "source": [
    "class DNN(nn.Module):\n",
    "    def __init__(self, input_dim, hidden_layers, hidden_dim, output_dim=20, dropout=0.5):\n",
    "        super(DNN, self).__init__()\n",
    "        self.hidden_layers = hidden_layers\n",
    "        self.fc1 = nn.Linear(input_dim, hidden_dim)\n",
    "        self.hidden = nn.ModuleList([nn.Linear(hidden_dim, hidden_dim) for i in range(hidden_layers)])\n",
    "        self.fc2 = nn.Linear(hidden_dim, output_dim)\n",
    "        \n",
    "    def forward(self, x):\n",
    "        x = F.relu(self.fc1(x))\n",
    "        for layer in self.hidden:\n",
    "            x = F.relu(layer(x))\n",
    "        x = self.fc2(x)\n",
    "#         x = F.softmax(self.fc2(x), dim=1)\n",
    "        return x"
   ]
  },
  {
   "cell_type": "code",
   "execution_count": 10,
   "metadata": {},
   "outputs": [
    {
     "name": "stdout",
     "output_type": "stream",
     "text": [
      "DNN(\n",
      "  (fc1): Linear(in_features=50, out_features=100, bias=True)\n",
      "  (hidden): ModuleList(\n",
      "    (0): Linear(in_features=100, out_features=100, bias=True)\n",
      "  )\n",
      "  (fc2): Linear(in_features=100, out_features=7, bias=True)\n",
      ")\n"
     ]
    }
   ],
   "source": [
    "# def build_random_dnn(input_dim, min_hidden_layer, max_hidden_layer, min_nodes, max_nodes, output_dim):\n",
    "\n",
    "#     layer = list(range(min_hidden_layer,max_hidden_layer))\n",
    "#     node = list(range(min_nodes, max_nodes))\n",
    "\n",
    "#     num_layers = np.random.choice(layer)\n",
    "#     num_nodes = np.random.choice(node)\n",
    "\n",
    "#     dnn = DNN(input_dim, num_layers, num_nodes, output_dim)\n",
    "\n",
    "#     return dnn\n",
    "\n",
    "dnn = DNN(50, 1, 100, 7)\n",
    "print(dnn)"
   ]
  },
  {
   "cell_type": "code",
   "execution_count": 11,
   "metadata": {},
   "outputs": [],
   "source": [
    "# Loss function\n",
    "criterion = nn.CrossEntropyLoss()\n",
    "\n",
    "# create your optimizer\n",
    "optimizer = optim.Adam(dnn.parameters(), lr=learning_rate)"
   ]
  },
  {
   "cell_type": "code",
   "execution_count": 19,
   "metadata": {},
   "outputs": [],
   "source": [
    "X_train, y_train = transform(newsgroups_train)\n",
    "\n",
    "## create iterator objects for train datasets\n",
    "X_tr = torch.tensor(X_train, dtype=torch.float)\n",
    "y_tr = torch.tensor(y_train, dtype=torch.long)\n",
    "train = TensorDataset(X_tr, y_tr)\n",
    "trainloader = DataLoader(train, batch_size=batch_size)"
   ]
  },
  {
   "cell_type": "code",
   "execution_count": 20,
   "metadata": {},
   "outputs": [
    {
     "name": "stdout",
     "output_type": "stream",
     "text": [
      "Epoch [1/10], Step [25/88], Loss: 1.7797\n",
      "Epoch [1/10], Step [50/88], Loss: 1.5987\n",
      "Epoch [1/10], Step [75/88], Loss: 1.5440\n",
      "Epoch [2/10], Step [25/88], Loss: 1.3736\n",
      "Epoch [2/10], Step [50/88], Loss: 1.0655\n",
      "Epoch [2/10], Step [75/88], Loss: 1.0724\n",
      "Epoch [3/10], Step [25/88], Loss: 1.1595\n",
      "Epoch [3/10], Step [50/88], Loss: 0.8829\n",
      "Epoch [3/10], Step [75/88], Loss: 0.9191\n",
      "Epoch [4/10], Step [25/88], Loss: 1.0528\n",
      "Epoch [4/10], Step [50/88], Loss: 0.7909\n",
      "Epoch [4/10], Step [75/88], Loss: 0.8276\n",
      "Epoch [5/10], Step [25/88], Loss: 0.9536\n",
      "Epoch [5/10], Step [50/88], Loss: 0.7443\n",
      "Epoch [5/10], Step [75/88], Loss: 0.7822\n",
      "Epoch [6/10], Step [25/88], Loss: 0.8925\n",
      "Epoch [6/10], Step [50/88], Loss: 0.7259\n",
      "Epoch [6/10], Step [75/88], Loss: 0.7634\n",
      "Epoch [7/10], Step [25/88], Loss: 0.8575\n",
      "Epoch [7/10], Step [50/88], Loss: 0.7144\n",
      "Epoch [7/10], Step [75/88], Loss: 0.7529\n",
      "Epoch [8/10], Step [25/88], Loss: 0.8339\n",
      "Epoch [8/10], Step [50/88], Loss: 0.7060\n",
      "Epoch [8/10], Step [75/88], Loss: 0.7462\n",
      "Epoch [9/10], Step [25/88], Loss: 0.8176\n",
      "Epoch [9/10], Step [50/88], Loss: 0.6998\n",
      "Epoch [9/10], Step [75/88], Loss: 0.7420\n",
      "Epoch [10/10], Step [25/88], Loss: 0.8063\n",
      "Epoch [10/10], Step [50/88], Loss: 0.6935\n",
      "Epoch [10/10], Step [75/88], Loss: 0.7362\n"
     ]
    }
   ],
   "source": [
    "# Training\n",
    "for epoch in range(num_epochs):\n",
    "    running_loss = 0\n",
    "    for i, data in enumerate(trainloader):\n",
    "        inputs, labels = data\n",
    "\n",
    "        outputs = dnn(inputs)\n",
    "        loss = criterion(outputs, labels)\n",
    "\n",
    "        loss.backward()\n",
    "        optimizer.step()\n",
    "\n",
    "        optimizer.zero_grad()\n",
    "\n",
    "#         running_loss += loss.item()\n",
    "        \n",
    "        if (i+1) % 25 == 0:\n",
    "            print ('Epoch [%d/%d], Step [%d/%d], Loss: %.4f'\n",
    "                   %(epoch+1, num_epochs, i+1, len(newsgroups_train.data)//batch_size, loss.data))"
   ]
  },
  {
   "cell_type": "code",
   "execution_count": 21,
   "metadata": {},
   "outputs": [],
   "source": [
    "X_test, y_test = transform(newsgroups_test)\n",
    "\n",
    "## create iterator objects for valid datasets\n",
    "X_te = torch.tensor(X_test, dtype=torch.float)\n",
    "y_te = torch.tensor(y_test, dtype=torch.long)\n",
    "test = TensorDataset(X_te, y_te)\n",
    "testloader = DataLoader(test)"
   ]
  },
  {
   "cell_type": "code",
   "execution_count": 22,
   "metadata": {},
   "outputs": [
    {
     "name": "stdout",
     "output_type": "stream",
     "text": [
      "Accuracy of the model is: 74.02%\n"
     ]
    }
   ],
   "source": [
    "total, correct = 0, 0\n",
    "with torch.no_grad():\n",
    "    for data in testloader:\n",
    "        inputs, labels = data\n",
    "\n",
    "        outputs = dnn(inputs)\n",
    "\n",
    "        _, predicted = torch.max(outputs, 1)\n",
    "\n",
    "        total += labels.size(0)\n",
    "        \n",
    "        correct += (predicted == labels).sum()\n",
    "\n",
    "print(f'Accuracy of the model is: {100*correct/total:.2f}%')"
   ]
  },
  {
   "cell_type": "code",
   "execution_count": null,
   "metadata": {},
   "outputs": [],
   "source": []
  }
 ],
 "metadata": {
  "colab": {
   "authorship_tag": "ABX9TyNO02O0aMqfDip/YVqJcS8T",
   "collapsed_sections": [],
   "include_colab_link": true,
   "mount_file_id": "1qgWdcvDT-fP5Br1nwBptLW2a1cY7jp1r",
   "name": "DNN.ipynb",
   "provenance": []
  },
  "kernelspec": {
   "display_name": "Python 3 (ipykernel)",
   "language": "python",
   "name": "python3"
  },
  "language_info": {
   "codemirror_mode": {
    "name": "ipython",
    "version": 3
   },
   "file_extension": ".py",
   "mimetype": "text/x-python",
   "name": "python",
   "nbconvert_exporter": "python",
   "pygments_lexer": "ipython3",
   "version": "3.9.7"
  }
 },
 "nbformat": 4,
 "nbformat_minor": 1
}
