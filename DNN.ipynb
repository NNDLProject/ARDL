{
 "cells": [
  {
   "cell_type": "code",
   "execution_count": 1,
   "metadata": {
    "id": "Cxb74Yxrr3CT"
   },
   "outputs": [],
   "source": [
    "import torch\n",
    "import torch.nn as nn\n",
    "import torch.nn.functional as F\n",
    "import torch.optim as optim\n",
    "from torch.utils.data import TensorDataset, DataLoader\n",
    "import numpy as np\n",
    "import re\n",
    "\n",
    "from sklearn.datasets import fetch_20newsgroups"
   ]
  },
  {
   "cell_type": "code",
   "execution_count": 2,
   "metadata": {},
   "outputs": [
    {
     "name": "stdout",
     "output_type": "stream",
     "text": [
      "Total samples in training data: 11314\n",
      "Total samples in testing data: 7532\n"
     ]
    }
   ],
   "source": [
    "# Provide list of categories to consider\n",
    "categories = ['alt.atheism',\n",
    "              'comp.graphics', \n",
    "              'comp.os.ms-windows.misc',\n",
    "              'comp.sys.ibm.pc.hardware',  \n",
    "              'comp.sys.mac.hardware',\n",
    "              'comp.windows.x', \n",
    "              'misc.forsale', \n",
    "              'rec.autos', \n",
    "              'rec.motorcycles', \n",
    "              'rec.sport.baseball', \n",
    "              'rec.sport.hockey', \n",
    "              'sci.crypt', \n",
    "              'sci.electronics', \n",
    "              'sci.med', \n",
    "              'sci.space', \n",
    "              'soc.religion.christian', \n",
    "              'talk.politics.guns', \n",
    "              'talk.politics.mideast', \n",
    "              'talk.politics.misc', \n",
    "              'talk.religion.misc']\n",
    "\n",
    "# Training subset\n",
    "newsgroups_train = fetch_20newsgroups(subset='train', categories=categories)\n",
    "# Testing subset\n",
    "newsgroups_test = fetch_20newsgroups(subset='test', categories=categories)\n",
    "\n",
    "print('Total samples in training data:', len(newsgroups_train.data))\n",
    "print('Total samples in testing data:', len(newsgroups_test.data))"
   ]
  },
  {
   "cell_type": "code",
   "execution_count": 45,
   "metadata": {},
   "outputs": [
    {
     "name": "stdout",
     "output_type": "stream",
     "text": [
      "Found 400000 word vectors.\n"
     ]
    }
   ],
   "source": [
    "# glove_dir = './glove.6B.50d.txt'\n",
    "# input_dim = 50\n",
    "glove_dir = './glove.6B.300d.txt'\n",
    "input_dim = 300\n",
    "\n",
    "vocab = {}\n",
    "with open(glove_dir, encoding='utf8') as f:\n",
    "    for line in f:\n",
    "        values = line.split()\n",
    "        word = values[0]\n",
    "        vector = np.asarray(values[1:], \"float32\")\n",
    "        vocab[word] = vector\n",
    "f.close()\n",
    "\n",
    "print('Found %s word vectors.' %len(vocab))"
   ]
  },
  {
   "cell_type": "code",
   "execution_count": 47,
   "metadata": {},
   "outputs": [],
   "source": [
    "def get_embeddings(text):\n",
    "    embedding = np.zeros(input_dim, dtype=float)\n",
    "    i = 0\n",
    "    for word in text.split(' '):\n",
    "        if word in vocab:\n",
    "            i += 1\n",
    "            embedding += vocab[word]\n",
    "    \n",
    "    if i != 0:\n",
    "        embedding /= i\n",
    "        \n",
    "    return embedding"
   ]
  },
  {
   "cell_type": "code",
   "execution_count": 48,
   "metadata": {},
   "outputs": [],
   "source": [
    "def clean(text):\n",
    "    \"\"\" Function to clean the text \"\"\"\n",
    "    text = text.lower()\n",
    "    text = re.sub(r'^https?:\\/\\/.*[\\r\\n]*', '', text, flags=re.MULTILINE)\n",
    "    texter = re.sub(r\"<br />\", \" \", text)\n",
    "    texter = re.sub(r\"&quot;\", \"\\\"\",texter)\n",
    "    texter = re.sub('&#39;', \"\\\"\", texter)\n",
    "    texter = re.sub('\\n', \" \", texter)\n",
    "    texter = re.sub(' u ',\" you \", texter)\n",
    "    texter = re.sub('`',\"\", texter)\n",
    "    texter = re.sub(' +', ' ', texter)\n",
    "    texter = re.sub(r\"(!)\\1+\", r\"!\", texter)\n",
    "    texter = re.sub(r\"(\\?)\\1+\", r\"?\", texter)\n",
    "    texter = re.sub('&amp;', 'and', texter)\n",
    "    texter = re.sub('\\r', ' ',texter)\n",
    "    \n",
    "    texter = re.sub(r'[^\\w\\s]', '', texter)\n",
    "    \n",
    "    # Remove numbers from string\n",
    "    texter = re.sub(pattern=r\"[+-]?\\d+(?:\\.\\d+)?\", repl=\"\", string=texter, count=0, flags=0)\n",
    "    texter = texter.replace(\"  \", \" \")\n",
    "    clean = re.compile('<.*?>')\n",
    "    texter = texter.encode('ascii', 'ignore').decode('ascii')\n",
    "    texter = re.sub(clean, '', texter)\n",
    "    if texter == \"\":\n",
    "        texter = \"\"\n",
    "    return texter"
   ]
  },
  {
   "cell_type": "code",
   "execution_count": 49,
   "metadata": {},
   "outputs": [],
   "source": [
    "dict_categories = {0: 0,\n",
    "                   1: 1, \n",
    "                   2: 1,\n",
    "                   3: 1,  \n",
    "                   4: 1,\n",
    "                   5: 1,\n",
    "                   6: 2, \n",
    "                   7: 3, \n",
    "                   8: 3, \n",
    "                   9: 3, \n",
    "                   10: 3,\n",
    "                   11: 4, \n",
    "                   12: 4, \n",
    "                   13: 4, \n",
    "                   14: 4,\n",
    "                   15: 5, \n",
    "                   16: 6,\n",
    "                   17: 6, \n",
    "                   18: 6, \n",
    "                   19: 6}\n",
    "\n",
    "def transform(df):\n",
    "    X = []\n",
    "    y = []\n",
    "\n",
    "    texts = df.data\n",
    "    categories = df.target\n",
    "\n",
    "    for text in texts:\n",
    "        text = clean(text)\n",
    "\n",
    "        X.append(get_embeddings(text))\n",
    "\n",
    "    for category in categories:\n",
    "        index_y = dict_categories[category]\n",
    "        y.append(index_y)\n",
    "\n",
    "    return np.array(X), np.array(y)"
   ]
  },
  {
   "cell_type": "code",
   "execution_count": 50,
   "metadata": {},
   "outputs": [],
   "source": [
    "# Hyperparameters\n",
    "num_epochs = 25\n",
    "batch_size = 128\n",
    "learning_rate = 0.001"
   ]
  },
  {
   "cell_type": "code",
   "execution_count": 51,
   "metadata": {
    "id": "j2bdmNSYumfW"
   },
   "outputs": [],
   "source": [
    "class DNN(nn.Module):\n",
    "    def __init__(self, input_dim, hidden_layers, hidden_dim, output_dim=20, dropout=0.5):\n",
    "        super(DNN, self).__init__()\n",
    "        self.hidden_layers = hidden_layers\n",
    "        self.fc1 = nn.Linear(input_dim, hidden_dim)\n",
    "        self.hidden = nn.ModuleList([nn.Linear(hidden_dim, hidden_dim) for i in range(hidden_layers)])\n",
    "        self.fc2 = nn.Linear(hidden_dim, output_dim)\n",
    "        \n",
    "        # Define proportion or neurons to dropout\n",
    "        self.dropout = nn.Dropout(dropout)\n",
    "        \n",
    "    def forward(self, x):\n",
    "        x = F.relu(self.fc1(x))\n",
    "        x = self.dropout(x)\n",
    "        for layer in self.hidden:\n",
    "            x = F.relu(layer(x))\n",
    "            x = self.dropout(x)\n",
    "        x = self.fc2(x)\n",
    "#         x = F.softmax(self.fc2(x), dim=1)\n",
    "        return x"
   ]
  },
  {
   "cell_type": "code",
   "execution_count": 52,
   "metadata": {},
   "outputs": [
    {
     "name": "stdout",
     "output_type": "stream",
     "text": [
      "DNN(\n",
      "  (fc1): Linear(in_features=300, out_features=300, bias=True)\n",
      "  (hidden): ModuleList(\n",
      "    (0): Linear(in_features=300, out_features=300, bias=True)\n",
      "  )\n",
      "  (fc2): Linear(in_features=300, out_features=7, bias=True)\n",
      "  (dropout): Dropout(p=0.25, inplace=False)\n",
      ")\n"
     ]
    }
   ],
   "source": [
    "# def build_random_dnn(input_dim, min_hidden_layer, max_hidden_layer, min_nodes, max_nodes, output_dim):\n",
    "\n",
    "#     layer = list(range(min_hidden_layer,max_hidden_layer))\n",
    "#     node = list(range(min_nodes, max_nodes))\n",
    "\n",
    "#     num_layers = np.random.choice(layer)\n",
    "#     num_nodes = np.random.choice(node)\n",
    "\n",
    "#     dnn = DNN(input_dim, num_layers, num_nodes, output_dim)\n",
    "\n",
    "#     return dnn\n",
    "\n",
    "num_layers = 1\n",
    "num_nodes = 300\n",
    "output_dim = 7\n",
    "dropout = 0.25\n",
    "\n",
    "dnn = DNN(input_dim, num_layers, num_nodes, output_dim, dropout)\n",
    "print(dnn)"
   ]
  },
  {
   "cell_type": "code",
   "execution_count": 53,
   "metadata": {},
   "outputs": [],
   "source": [
    "# Loss function\n",
    "criterion = nn.CrossEntropyLoss()\n",
    "\n",
    "# create your optimizer\n",
    "optimizer = optim.Adam(dnn.parameters(), lr=learning_rate)"
   ]
  },
  {
   "cell_type": "code",
   "execution_count": 54,
   "metadata": {},
   "outputs": [],
   "source": [
    "X_train, y_train = transform(newsgroups_train)\n",
    "\n",
    "## create iterator objects for train datasets\n",
    "X_tr = torch.tensor(X_train, dtype=torch.float)\n",
    "y_tr = torch.tensor(y_train, dtype=torch.long)\n",
    "train = TensorDataset(X_tr, y_tr)\n",
    "trainloader = DataLoader(train, batch_size=batch_size)"
   ]
  },
  {
   "cell_type": "code",
   "execution_count": 55,
   "metadata": {},
   "outputs": [
    {
     "name": "stdout",
     "output_type": "stream",
     "text": [
      "Epoch [1/25], Step [50/88], Loss: 1.0967\n",
      "Epoch [2/25], Step [50/88], Loss: 0.6972\n",
      "Epoch [3/25], Step [50/88], Loss: 0.5364\n",
      "Epoch [4/25], Step [50/88], Loss: 0.5077\n",
      "Epoch [5/25], Step [50/88], Loss: 0.4848\n",
      "Epoch [6/25], Step [50/88], Loss: 0.4654\n",
      "Epoch [7/25], Step [50/88], Loss: 0.4400\n",
      "Epoch [8/25], Step [50/88], Loss: 0.4335\n",
      "Epoch [9/25], Step [50/88], Loss: 0.3915\n",
      "Epoch [10/25], Step [50/88], Loss: 0.4017\n",
      "Epoch [11/25], Step [50/88], Loss: 0.3890\n",
      "Epoch [12/25], Step [50/88], Loss: 0.3727\n",
      "Epoch [13/25], Step [50/88], Loss: 0.4005\n",
      "Epoch [14/25], Step [50/88], Loss: 0.3499\n",
      "Epoch [15/25], Step [50/88], Loss: 0.3593\n",
      "Epoch [16/25], Step [50/88], Loss: 0.2990\n",
      "Epoch [17/25], Step [50/88], Loss: 0.3142\n",
      "Epoch [18/25], Step [50/88], Loss: 0.2686\n",
      "Epoch [19/25], Step [50/88], Loss: 0.2959\n",
      "Epoch [20/25], Step [50/88], Loss: 0.2816\n",
      "Epoch [21/25], Step [50/88], Loss: 0.2889\n",
      "Epoch [22/25], Step [50/88], Loss: 0.2628\n",
      "Epoch [23/25], Step [50/88], Loss: 0.2781\n",
      "Epoch [24/25], Step [50/88], Loss: 0.2591\n",
      "Epoch [25/25], Step [50/88], Loss: 0.2701\n"
     ]
    }
   ],
   "source": [
    "# Training\n",
    "for epoch in range(num_epochs):\n",
    "    running_loss = 0\n",
    "    for i, data in enumerate(trainloader):\n",
    "        inputs, labels = data\n",
    "\n",
    "        outputs = dnn(inputs)\n",
    "        loss = criterion(outputs, labels)\n",
    "\n",
    "        loss.backward()\n",
    "        optimizer.step()\n",
    "\n",
    "        optimizer.zero_grad()\n",
    "\n",
    "#         running_loss += loss.item()\n",
    "        \n",
    "        if (i+1) % 50 == 0:\n",
    "            print ('Epoch [%d/%d], Step [%d/%d], Loss: %.4f'\n",
    "                   %(epoch+1, num_epochs, i+1, len(newsgroups_train.data)//batch_size, loss.data))"
   ]
  },
  {
   "cell_type": "code",
   "execution_count": 56,
   "metadata": {},
   "outputs": [],
   "source": [
    "X_test, y_test = transform(newsgroups_test)\n",
    "\n",
    "## create iterator objects for valid datasets\n",
    "X_te = torch.tensor(X_test, dtype=torch.float)\n",
    "y_te = torch.tensor(y_test, dtype=torch.long)\n",
    "test = TensorDataset(X_te, y_te)\n",
    "testloader = DataLoader(test)"
   ]
  },
  {
   "cell_type": "code",
   "execution_count": 57,
   "metadata": {},
   "outputs": [
    {
     "name": "stdout",
     "output_type": "stream",
     "text": [
      "Accuracy of the model is: 81.32%\n"
     ]
    }
   ],
   "source": [
    "total, correct = 0, 0\n",
    "with torch.no_grad():\n",
    "    for data in testloader:\n",
    "        inputs, labels = data\n",
    "\n",
    "        outputs = dnn(inputs)\n",
    "\n",
    "        _, predicted = torch.max(outputs, 1)\n",
    "\n",
    "        total += labels.size(0)\n",
    "        \n",
    "        correct += (predicted == labels).sum()\n",
    "\n",
    "print(f'Accuracy of the model is: {100*correct/total:.2f}%')"
   ]
  },
  {
   "cell_type": "code",
   "execution_count": null,
   "metadata": {},
   "outputs": [],
   "source": []
  }
 ],
 "metadata": {
  "colab": {
   "authorship_tag": "ABX9TyNO02O0aMqfDip/YVqJcS8T",
   "collapsed_sections": [],
   "include_colab_link": true,
   "mount_file_id": "1qgWdcvDT-fP5Br1nwBptLW2a1cY7jp1r",
   "name": "DNN.ipynb",
   "provenance": []
  },
  "kernelspec": {
   "display_name": "Python 3 (ipykernel)",
   "language": "python",
   "name": "python3"
  },
  "language_info": {
   "codemirror_mode": {
    "name": "ipython",
    "version": 3
   },
   "file_extension": ".py",
   "mimetype": "text/x-python",
   "name": "python",
   "nbconvert_exporter": "python",
   "pygments_lexer": "ipython3",
   "version": "3.9.7"
  }
 },
 "nbformat": 4,
 "nbformat_minor": 1
}
