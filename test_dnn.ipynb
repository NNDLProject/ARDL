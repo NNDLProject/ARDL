{
 "cells": [
  {
   "cell_type": "code",
   "execution_count": 1,
   "id": "b5096d33",
   "metadata": {},
   "outputs": [],
   "source": [
    "import torch\n",
    "import torch.nn as nn\n",
    "import torch.optim as optim\n",
    "from torch.utils.data import TensorDataset, DataLoader\n",
    "\n",
    "import numpy as np\n",
    "import re\n",
    "import matplotlib.pyplot as plt\n",
    "from sklearn.datasets import fetch_20newsgroups\n",
    "\n",
    "from dnn import *"
   ]
  },
  {
   "cell_type": "code",
   "execution_count": 2,
   "id": "43caa1f1",
   "metadata": {},
   "outputs": [
    {
     "name": "stdout",
     "output_type": "stream",
     "text": [
      "Total samples in training data: 11314\n",
      "Total samples in testing data: 7532\n"
     ]
    }
   ],
   "source": [
    "# Provide list of categories to consider\n",
    "categories = ['alt.atheism',\n",
    "              'comp.graphics', \n",
    "              'comp.os.ms-windows.misc',\n",
    "              'comp.sys.ibm.pc.hardware',  \n",
    "              'comp.sys.mac.hardware',\n",
    "              'comp.windows.x', \n",
    "              'misc.forsale', \n",
    "              'rec.autos', \n",
    "              'rec.motorcycles', \n",
    "              'rec.sport.baseball', \n",
    "              'rec.sport.hockey', \n",
    "              'sci.crypt', \n",
    "              'sci.electronics', \n",
    "              'sci.med', \n",
    "              'sci.space', \n",
    "              'soc.religion.christian', \n",
    "              'talk.politics.guns', \n",
    "              'talk.politics.mideast', \n",
    "              'talk.politics.misc', \n",
    "              'talk.religion.misc']\n",
    "\n",
    "# Training subset\n",
    "newsgroups_train = fetch_20newsgroups(subset='train', categories=categories)\n",
    "# Testing subset\n",
    "newsgroups_test = fetch_20newsgroups(subset='test', categories=categories)\n",
    "\n",
    "print('Total samples in training data:', len(newsgroups_train.data))\n",
    "print('Total samples in testing data:', len(newsgroups_test.data))"
   ]
  },
  {
   "cell_type": "code",
   "execution_count": 3,
   "id": "78588b57",
   "metadata": {},
   "outputs": [
    {
     "name": "stdout",
     "output_type": "stream",
     "text": [
      "Found 400000 word vectors.\n"
     ]
    }
   ],
   "source": [
    "# glove_dir = './glove.6B.50d.txt'  ## Replace the file name with your GloVe embedding file\n",
    "# input_dim = 50   ## Choose the input dimension accordingly\n",
    "glove_dir = './glove.6B.300d.txt'\n",
    "input_dim = 300\n",
    "\n",
    "vocab = {}\n",
    "with open(glove_dir, encoding='utf8') as f:\n",
    "    for line in f:\n",
    "        values = line.split()\n",
    "        word = values[0]\n",
    "        vector = np.asarray(values[1:], \"float32\")\n",
    "        vocab[word] = vector\n",
    "f.close()\n",
    "\n",
    "print('Found %s word vectors.' %len(vocab))"
   ]
  },
  {
   "cell_type": "code",
   "execution_count": 4,
   "id": "f3793305",
   "metadata": {},
   "outputs": [],
   "source": [
    "def get_embeddings(text):\n",
    "    embedding = np.zeros(input_dim, dtype=float)\n",
    "    i = 0\n",
    "    for word in text.split(' '):\n",
    "        if word in vocab:\n",
    "            i += 1\n",
    "            embedding += vocab[word]\n",
    "    \n",
    "    if i != 0:\n",
    "        embedding /= i\n",
    "        \n",
    "    return embedding"
   ]
  },
  {
   "cell_type": "code",
   "execution_count": 5,
   "id": "e3f1b21d",
   "metadata": {},
   "outputs": [],
   "source": [
    "def clean(text):\n",
    "    \"\"\" Function to clean the text \"\"\"\n",
    "    text = text.lower()\n",
    "    text = re.sub(r'^https?:\\/\\/.*[\\r\\n]*', '', text, flags=re.MULTILINE)\n",
    "    texter = re.sub(r\"<br />\", \" \", text)\n",
    "    texter = re.sub(r\"&quot;\", \"\\\"\",texter)\n",
    "    texter = re.sub('&#39;', \"\\\"\", texter)\n",
    "    texter = re.sub('\\n', \" \", texter)\n",
    "    texter = re.sub(' u ',\" you \", texter)\n",
    "    texter = re.sub('`',\"\", texter)\n",
    "    texter = re.sub(' +', ' ', texter)\n",
    "    texter = re.sub(r\"(!)\\1+\", r\"!\", texter)\n",
    "    texter = re.sub(r\"(\\?)\\1+\", r\"?\", texter)\n",
    "    texter = re.sub('&amp;', 'and', texter)\n",
    "    texter = re.sub('\\r', ' ',texter)\n",
    "    \n",
    "    # Remove numbers from string\n",
    "    texter = re.sub(pattern=r\"[+-]?\\d+(?:\\.\\d+)?\", repl=\"\", string=texter, count=0, flags=0)\n",
    "    texter = texter.replace(\"  \", \" \")\n",
    "    clean = re.compile('<.*?>')\n",
    "    texter = texter.encode('ascii', 'ignore').decode('ascii')\n",
    "    texter = re.sub(clean, '', texter)\n",
    "    texter = re.sub(r'[^\\w\\s]', '', texter)\n",
    "    if texter == \"\":\n",
    "        texter = \"\"\n",
    "    return texter"
   ]
  },
  {
   "cell_type": "code",
   "execution_count": 6,
   "id": "81f216fe",
   "metadata": {},
   "outputs": [],
   "source": [
    "dict_categories = {0: 0,\n",
    "                   1: 1, \n",
    "                   2: 1,\n",
    "                   3: 1,  \n",
    "                   4: 1,\n",
    "                   5: 1,\n",
    "                   6: 2, \n",
    "                   7: 3, \n",
    "                   8: 3, \n",
    "                   9: 3, \n",
    "                   10: 3,\n",
    "                   11: 4, \n",
    "                   12: 4, \n",
    "                   13: 4, \n",
    "                   14: 4,\n",
    "                   15: 5, \n",
    "                   16: 6,\n",
    "                   17: 6, \n",
    "                   18: 6, \n",
    "                   19: 6}\n",
    "\n",
    "def transform(df):\n",
    "    X = []\n",
    "    y = []\n",
    "\n",
    "    texts = df.data\n",
    "    categories = df.target\n",
    "\n",
    "    for text in texts:\n",
    "        text = clean(text)\n",
    "\n",
    "        X.append(get_embeddings(text))\n",
    "\n",
    "    for category in categories:\n",
    "        index_y = dict_categories[category]\n",
    "        y.append(index_y)\n",
    "\n",
    "    return np.array(X), np.array(y)"
   ]
  },
  {
   "cell_type": "code",
   "execution_count": 14,
   "id": "a5e37785",
   "metadata": {},
   "outputs": [
    {
     "name": "stdout",
     "output_type": "stream",
     "text": [
      "DNN(\n",
      "  (fc1): Linear(in_features=300, out_features=300, bias=True)\n",
      "  (hidden): ModuleList(\n",
      "    (0): Linear(in_features=300, out_features=300, bias=True)\n",
      "  )\n",
      "  (fc2): Linear(in_features=300, out_features=7, bias=True)\n",
      "  (dropout): Dropout(p=0.25, inplace=False)\n",
      ")\n"
     ]
    }
   ],
   "source": [
    "# Hyperparameters\n",
    "num_epochs = 25\n",
    "batch_size = 128\n",
    "learning_rate = 0.001\n",
    "\n",
    "num_layers = 1\n",
    "num_nodes = 300\n",
    "output_dim = 7\n",
    "dropout = 0.25\n",
    "\n",
    "# Model\n",
    "dnn = DNN(input_dim, num_layers, num_nodes, output_dim, dropout)\n",
    "print(dnn)\n",
    "\n",
    "# Loss function\n",
    "criterion = nn.CrossEntropyLoss()\n",
    "\n",
    "# create your optimizer\n",
    "optimizer = optim.Adam(dnn.parameters(), lr=learning_rate)"
   ]
  },
  {
   "cell_type": "code",
   "execution_count": 10,
   "id": "bbe54bac",
   "metadata": {},
   "outputs": [],
   "source": [
    "X_train, y_train = transform(newsgroups_train)\n",
    "\n",
    "## create iterator objects for train datasets\n",
    "X_tr = torch.tensor(X_train, dtype=torch.float)\n",
    "y_tr = torch.tensor(y_train, dtype=torch.long)\n",
    "train = TensorDataset(X_tr, y_tr)\n",
    "trainloader = DataLoader(train, batch_size=batch_size)"
   ]
  },
  {
   "cell_type": "code",
   "execution_count": 11,
   "id": "8980c7e7",
   "metadata": {},
   "outputs": [],
   "source": [
    "X_test, y_test = transform(newsgroups_test)\n",
    "\n",
    "## create iterator objects for valid datasets\n",
    "X_te = torch.tensor(X_test, dtype=torch.float)\n",
    "y_te = torch.tensor(y_test, dtype=torch.long)\n",
    "test = TensorDataset(X_te, y_te)\n",
    "testloader = DataLoader(test)"
   ]
  },
  {
   "cell_type": "code",
   "execution_count": 15,
   "id": "8aae11c9",
   "metadata": {},
   "outputs": [
    {
     "name": "stdout",
     "output_type": "stream",
     "text": [
      "Epoch [1/25], Step [50/89], Loss: 1.0333\n",
      "Epoch [2/25], Step [50/89], Loss: 0.7098\n",
      "Epoch [3/25], Step [50/89], Loss: 0.5546\n",
      "Epoch [4/25], Step [50/89], Loss: 0.5180\n",
      "Epoch [5/25], Step [50/89], Loss: 0.4683\n",
      "Epoch [6/25], Step [50/89], Loss: 0.4753\n",
      "Epoch [7/25], Step [50/89], Loss: 0.4010\n",
      "Epoch [8/25], Step [50/89], Loss: 0.3737\n",
      "Epoch [9/25], Step [50/89], Loss: 0.3985\n",
      "Epoch [10/25], Step [50/89], Loss: 0.3676\n",
      "Epoch [11/25], Step [50/89], Loss: 0.3912\n",
      "Epoch [12/25], Step [50/89], Loss: 0.3343\n",
      "Epoch [13/25], Step [50/89], Loss: 0.3657\n",
      "Epoch [14/25], Step [50/89], Loss: 0.3523\n",
      "Epoch [15/25], Step [50/89], Loss: 0.3166\n",
      "Epoch [16/25], Step [50/89], Loss: 0.3477\n",
      "Epoch [17/25], Step [50/89], Loss: 0.3375\n",
      "Epoch [18/25], Step [50/89], Loss: 0.2958\n",
      "Epoch [19/25], Step [50/89], Loss: 0.2723\n",
      "Epoch [20/25], Step [50/89], Loss: 0.2719\n",
      "Epoch [21/25], Step [50/89], Loss: 0.2638\n",
      "Epoch [22/25], Step [50/89], Loss: 0.2699\n",
      "Epoch [23/25], Step [50/89], Loss: 0.2283\n",
      "Epoch [24/25], Step [50/89], Loss: 0.2127\n",
      "Epoch [25/25], Step [50/89], Loss: 0.2283\n"
     ]
    }
   ],
   "source": [
    "training_loss = []\n",
    "validation_loss = []\n",
    "for epoch in range(num_epochs):\n",
    "    dnn.train()\n",
    "    for i, data in enumerate(trainloader):\n",
    "        inputs, labels = data\n",
    "\n",
    "        outputs = dnn(inputs)\n",
    "        loss = criterion(outputs, labels)\n",
    "\n",
    "        optimizer.zero_grad()\n",
    "        loss.backward()\n",
    "        optimizer.step()\n",
    "\n",
    "        if (i+1) % 50 == 0:\n",
    "            print ('Epoch [%d/%d], Step [%d/%d], Loss: %.4f'\n",
    "                   %(epoch+1, num_epochs, i+1, len(trainloader), loss.data))\n",
    "\n",
    "    dnn.eval()\n",
    "    \n",
    "    # Compute and print loss.\n",
    "    y_train_pred = dnn(X_tr)\n",
    "    train_loss = criterion(y_train_pred, y_tr)\n",
    "    y_test_pred = dnn(X_te)\n",
    "    test_loss = criterion(y_test_pred, y_te)\n",
    "    \n",
    "    training_loss.append(train_loss.data)\n",
    "    validation_loss.append(test_loss.data)\n",
    "    "
   ]
  },
  {
   "cell_type": "code",
   "execution_count": 16,
   "id": "6e527552",
   "metadata": {},
   "outputs": [
    {
     "data": {
      "image/png": "[encoded data removed]",
      "text/plain": [
       "<Figure size 432x288 with 1 Axes>"
      ]
     },
     "metadata": {
      "needs_background": "light"
     },
     "output_type": "display_data"
    }
   ],
   "source": [
    "training_loss = np.array(training_loss)\n",
    "validation_loss = np.array(validation_loss)\n",
    "\n",
    "plt.plot(training_loss)\n",
    "plt.plot(validation_loss)\n",
    "plt.legend([\"Training Loss\", \"Validation Loss\"])\n",
    "\n",
    "plt.ylabel('Loss')\n",
    "plt.xlabel('Epochs')\n",
    "plt.show()"
   ]
  },
  {
   "cell_type": "code",
   "execution_count": 18,
   "id": "dd2faeb3",
   "metadata": {},
   "outputs": [
    {
     "name": "stdout",
     "output_type": "stream",
     "text": [
      "Accuracy of the model is: 81.89%\n"
     ]
    }
   ],
   "source": [
    "# Final validation accuracy\n",
    "total, correct = 0, 0\n",
    "dnn.eval()\n",
    "outputs = dnn(X_te)\n",
    "_, predicted = torch.max(outputs, 1)\n",
    "\n",
    "total += y_te.size(0)\n",
    "\n",
    "correct += (predicted == y_te).sum()\n",
    "\n",
    "print(f'Accuracy of the model is: {100*correct/total:.2f}%')"
   ]
  }
 ],
 "metadata": {
  "kernelspec": {
   "display_name": "Python 3 (ipykernel)",
   "language": "python",
   "name": "python3"
  },
  "language_info": {
   "codemirror_mode": {
    "name": "ipython",
    "version": 3
   },
   "file_extension": ".py",
   "mimetype": "text/x-python",
   "name": "python",
   "nbconvert_exporter": "python",
   "pygments_lexer": "ipython3",
   "version": "3.9.7"
  }
 },
 "nbformat": 4,
 "nbformat_minor": 5
}
